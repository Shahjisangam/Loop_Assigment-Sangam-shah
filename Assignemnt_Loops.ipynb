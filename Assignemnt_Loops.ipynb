{
 "cells": [
  {
   "cell_type": "code",
   "execution_count": 1,
   "id": "040de48f-5379-4c6b-ab3c-81bd69282855",
   "metadata": {},
   "outputs": [],
   "source": [
    "# Ques No. - 01. Print nmber from 1 to 5 ing a while loop."
   ]
  },
  {
   "cell_type": "code",
   "execution_count": 2,
   "id": "085bbff2-34e7-4dca-8fd0-d3c0b5497c2e",
   "metadata": {},
   "outputs": [
    {
     "name": "stdout",
     "output_type": "stream",
     "text": [
      "1\n",
      "2\n",
      "3\n",
      "4\n",
      "5\n"
     ]
    }
   ],
   "source": [
    "# Initialize the counter\n",
    "counter = 1\n",
    "\n",
    "# Print numbers from 1 to 5 using a while loop\n",
    "while counter <= 5:\n",
    "    print(counter)\n",
    "    counter += 1\n"
   ]
  },
  {
   "cell_type": "markdown",
   "id": "6b4471f9-b629-41bd-839b-2334c8ffc07a",
   "metadata": {},
   "source": [
    "In this code:\n",
    "\n",
    "We initialize a variable counter to 1.\n",
    "The while loop runs as long as the value of counter is less than or equal to 5.\n",
    "Inside the loop, we print the value of counter and then increment it by 1 using counter += 1. This ensures that the loop will eventually terminate when counter becomes greater than 5.\n",
    "\n",
    "\n",
    "\n",
    "\n",
    "\n"
   ]
  },
  {
   "cell_type": "code",
   "execution_count": 3,
   "id": "ab49118f-cd59-4d61-994d-32e5b0001b4c",
   "metadata": {},
   "outputs": [],
   "source": [
    "#Ques no. 02. Calclate the sum of number from 1 to 10 ing a while loop."
   ]
  },
  {
   "cell_type": "markdown",
   "id": "5592a20d-554f-4ea0-90e4-12171d7f4228",
   "metadata": {},
   "source": [
    "It seems like there might be a typo in your request. Did you mean to ask how to calculate the sum of numbers from 1 to 10 using a while loop? If so, here's how you can do it:"
   ]
  },
  {
   "cell_type": "code",
   "execution_count": 4,
   "id": "4d8ca61f-917d-4df5-a15d-2b94137100c9",
   "metadata": {},
   "outputs": [
    {
     "name": "stdout",
     "output_type": "stream",
     "text": [
      "The sum of numbers from 1 to 10 is: 55\n"
     ]
    }
   ],
   "source": [
    "# Initialize variables\n",
    "total = 0\n",
    "number = 1\n",
    "\n",
    "# Calculate the sum of numbers from 1 to 10 using a while loop\n",
    "while number <= 10:\n",
    "    total += number\n",
    "    number += 1\n",
    "\n",
    "# Print the result\n",
    "print(\"The sum of numbers from 1 to 10 is:\", total)\n"
   ]
  },
  {
   "cell_type": "markdown",
   "id": "634b1bfd-275e-4f60-aa06-dfe3663a696f",
   "metadata": {},
   "source": [
    "In this code:\n",
    "\n",
    "We initialize two variables: total to store the running sum, and number to keep track of the current number being added.\n",
    "The while loop continues as long as number is less than or equal to 10.\n",
    "Inside the loop, we add the value of number to total and then increment number by 1.\n",
    "After the loop, we print the final value of total, which represents the sum of numbers from 1 to 10.\n",
    "\n",
    "\n",
    "\n",
    "\n",
    "\n"
   ]
  },
  {
   "cell_type": "code",
   "execution_count": 10,
   "id": "6c3f8385-6df5-4062-b9e6-f2a970eadfa0",
   "metadata": {},
   "outputs": [],
   "source": [
    "# Ques no. - 03 Calclate the factorial of a nmber ing a for loop."
   ]
  },
  {
   "cell_type": "markdown",
   "id": "d811adfc-1634-4c80-96e9-f6e7facf7239",
   "metadata": {},
   "source": [
    "Sure, i can calculate the factorial of a number using a for loop. The factorial of a non-negative integer \n",
    "�\n",
    "n, denoted by \n",
    "�\n",
    "!\n",
    "n!, is the product of all positive integers less than or equal to \n",
    "�\n",
    "n. Here's how i can do it:"
   ]
  },
  {
   "cell_type": "code",
   "execution_count": 6,
   "id": "37045513-5df9-47f7-a7d0-399847980b1a",
   "metadata": {},
   "outputs": [
    {
     "name": "stdout",
     "output_type": "stream",
     "text": [
      "The factorial of 5 is: 120\n"
     ]
    }
   ],
   "source": [
    "# Function to calculate factorial using a for loop\n",
    "def factorial(n):\n",
    "    result = 1\n",
    "    for i in range(1, n + 1):\n",
    "        result *= i\n",
    "    return result\n",
    "\n",
    "# Example usage\n",
    "number = 5\n",
    "factorial_of_number = factorial(number)\n",
    "print(\"The factorial of\", number, \"is:\", factorial_of_number)\n"
   ]
  },
  {
   "cell_type": "markdown",
   "id": "3f88a944-a0f9-4a49-9e6b-7f3ebe71f324",
   "metadata": {},
   "source": [
    "In this code:\n",
    "\n",
    "We define a function factorial(n) that takes an integer n as input and returns its factorial.\n",
    "Inside the function, we initialize a variable result to 1. This will store the running product.\n",
    "We use a for loop to iterate from 1 to n (inclusive).\n",
    "Inside the loop, we multiply result by the current value of i.\n",
    "After the loop, we return the final value of result, which represents the factorial of n.\n",
    "We demonstrate the usage of the function by calculating the factorial of the number 5 and printing the result."
   ]
  },
  {
   "cell_type": "code",
   "execution_count": 7,
   "id": "d650e76b-caf7-4a6b-8f14-ebc3d37c3f8f",
   "metadata": {},
   "outputs": [],
   "source": [
    "# Ques no. -04 Count the number of vowel in a string using a for loop."
   ]
  },
  {
   "cell_type": "code",
   "execution_count": 9,
   "id": "79e4315d-6cba-4fd8-9fe6-3b102a77b59f",
   "metadata": {},
   "outputs": [
    {
     "name": "stdout",
     "output_type": "stream",
     "text": [
      "The number of vowels in the string is: 3\n"
     ]
    }
   ],
   "source": [
    "# Function to count the number of vowels in a string\n",
    "def count_vowels(string):\n",
    "    vowels = \"aeiouAEIOU\"\n",
    "    count = 0\n",
    "    for char in string:\n",
    "        if char in vowels:\n",
    "            count += 1\n",
    "    return count\n",
    "\n",
    "# Example usage\n",
    "input_string = \"Hello, World!\"\n",
    "vowel_count = count_vowels(input_string)\n",
    "print(\"The number of vowels in the string is:\", vowel_count)"
   ]
  },
  {
   "cell_type": "markdown",
   "id": "5c13318c-ba38-4cc5-bf10-6542508f2b90",
   "metadata": {},
   "source": [
    "In this code:\n",
    "\n",
    "We define a function count_vowels(string) that takes a string string as input and returns the count of vowels in the string.\n",
    "Inside the function, we initialize a variable vowels with all the vowels (both lowercase and uppercase).\n",
    "We initialize a variable count to store the count of vowels.\n",
    "We use a for loop to iterate over each character in the string.\n",
    "Inside the loop, we check if the current character char is in the vowels string. If it is, we increment the count variable.\n",
    "After the loop, we return the final value of count, which represents the number of vowels in the string.\n",
    "We demonstrate the usage of the function by counting the vowels in the input string \"Hello, World!\" and printing the result."
   ]
  },
  {
   "cell_type": "code",
   "execution_count": 11,
   "id": "58525776-0521-431b-b812-0d05ef48c203",
   "metadata": {},
   "outputs": [],
   "source": [
    "# Ques No. - 05. Print a pattern using nested loop."
   ]
  },
  {
   "cell_type": "code",
   "execution_count": 12,
   "id": "bd351225-9a55-4238-b4ba-9cbb08f8e24a",
   "metadata": {},
   "outputs": [
    {
     "name": "stdout",
     "output_type": "stream",
     "text": [
      "The number of vowels in the string is: 3\n"
     ]
    }
   ],
   "source": [
    "# Function to count the number of vowels in a string\n",
    "def count_vowels(string):\n",
    "    vowels = \"aeiouAEIOU\"\n",
    "    count = 0\n",
    "    for char in string:\n",
    "        if char in vowels:\n",
    "            count += 1\n",
    "    return count\n",
    "\n",
    "# Example usage\n",
    "input_string = \"Hello, World!\"\n",
    "vowel_count = count_vowels(input_string)\n",
    "print(\"The number of vowels in the string is:\", vowel_count)\n"
   ]
  },
  {
   "cell_type": "markdown",
   "id": "8bb23c2b-0ecc-4ea8-9053-76cb6beb7994",
   "metadata": {},
   "source": [
    "This code will print the following pattern:"
   ]
  },
  {
   "cell_type": "code",
   "execution_count": 13,
   "id": "bada0b98-28c7-4451-8216-a031a3b10f05",
   "metadata": {},
   "outputs": [
    {
     "ename": "SyntaxError",
     "evalue": "invalid syntax (2127605721.py, line 1)",
     "output_type": "error",
     "traceback": [
      "\u001b[0;36m  Cell \u001b[0;32mIn[13], line 1\u001b[0;36m\u001b[0m\n\u001b[0;31m    *\u001b[0m\n\u001b[0m     ^\u001b[0m\n\u001b[0;31mSyntaxError\u001b[0m\u001b[0;31m:\u001b[0m invalid syntax\n"
     ]
    }
   ],
   "source": [
    "*\n",
    "* *\n",
    "* * *\n",
    "* * * *\n",
    "* * * * *\n"
   ]
  },
  {
   "cell_type": "markdown",
   "id": "6f858330-27a4-4b20-a316-753c6f7bed8e",
   "metadata": {},
   "source": [
    "In this pattern:\n",
    "\n",
    "The outer loop (for i in range(1, rows + 1)) iterates over each row.\n",
    "The inner loop (for j in range(1, i + 1)) iterates over each column within the current row.\n",
    "Inside the inner loop, print(\"*\", end=\" \") prints a star (*) without moving to the next line.\n",
    "After printing all the stars in the current row, print() is used to move to the next line and start the next row."
   ]
  },
  {
   "cell_type": "code",
   "execution_count": 14,
   "id": "4955a806-c1d9-412c-a804-0cbce5289884",
   "metadata": {},
   "outputs": [],
   "source": [
    "# Ques No. - 06. Generate a multiplication table using neted loop."
   ]
  },
  {
   "cell_type": "code",
   "execution_count": 15,
   "id": "b120fab1-7f23-42ec-91bb-ac1144ad0ca6",
   "metadata": {},
   "outputs": [
    {
     "name": "stdout",
     "output_type": "stream",
     "text": [
      "1 * 1 = 1\t1 * 2 = 2\t1 * 3 = 3\t1 * 4 = 4\t1 * 5 = 5\t1 * 6 = 6\t1 * 7 = 7\t1 * 8 = 8\t1 * 9 = 9\t1 * 10 = 10\t\n",
      "2 * 1 = 2\t2 * 2 = 4\t2 * 3 = 6\t2 * 4 = 8\t2 * 5 = 10\t2 * 6 = 12\t2 * 7 = 14\t2 * 8 = 16\t2 * 9 = 18\t2 * 10 = 20\t\n",
      "3 * 1 = 3\t3 * 2 = 6\t3 * 3 = 9\t3 * 4 = 12\t3 * 5 = 15\t3 * 6 = 18\t3 * 7 = 21\t3 * 8 = 24\t3 * 9 = 27\t3 * 10 = 30\t\n",
      "4 * 1 = 4\t4 * 2 = 8\t4 * 3 = 12\t4 * 4 = 16\t4 * 5 = 20\t4 * 6 = 24\t4 * 7 = 28\t4 * 8 = 32\t4 * 9 = 36\t4 * 10 = 40\t\n",
      "5 * 1 = 5\t5 * 2 = 10\t5 * 3 = 15\t5 * 4 = 20\t5 * 5 = 25\t5 * 6 = 30\t5 * 7 = 35\t5 * 8 = 40\t5 * 9 = 45\t5 * 10 = 50\t\n",
      "6 * 1 = 6\t6 * 2 = 12\t6 * 3 = 18\t6 * 4 = 24\t6 * 5 = 30\t6 * 6 = 36\t6 * 7 = 42\t6 * 8 = 48\t6 * 9 = 54\t6 * 10 = 60\t\n",
      "7 * 1 = 7\t7 * 2 = 14\t7 * 3 = 21\t7 * 4 = 28\t7 * 5 = 35\t7 * 6 = 42\t7 * 7 = 49\t7 * 8 = 56\t7 * 9 = 63\t7 * 10 = 70\t\n",
      "8 * 1 = 8\t8 * 2 = 16\t8 * 3 = 24\t8 * 4 = 32\t8 * 5 = 40\t8 * 6 = 48\t8 * 7 = 56\t8 * 8 = 64\t8 * 9 = 72\t8 * 10 = 80\t\n",
      "9 * 1 = 9\t9 * 2 = 18\t9 * 3 = 27\t9 * 4 = 36\t9 * 5 = 45\t9 * 6 = 54\t9 * 7 = 63\t9 * 8 = 72\t9 * 9 = 81\t9 * 10 = 90\t\n",
      "10 * 1 = 10\t10 * 2 = 20\t10 * 3 = 30\t10 * 4 = 40\t10 * 5 = 50\t10 * 6 = 60\t10 * 7 = 70\t10 * 8 = 80\t10 * 9 = 90\t10 * 10 = 100\t\n"
     ]
    }
   ],
   "source": [
    "# Define the range of numbers for the multiplication table\n",
    "start = 1\n",
    "end = 10\n",
    "\n",
    "# Outer loop for rows\n",
    "for i in range(start, end + 1):\n",
    "    # Inner loop for columns\n",
    "    for j in range(start, end + 1):\n",
    "        # Calculate the product and print it with formatting\n",
    "        product = i * j\n",
    "        print(f\"{i} * {j} = {product}\", end=\"\\t\")\n",
    "    # Move to the next line after printing each row\n",
    "    print()\n"
   ]
  },
  {
   "cell_type": "markdown",
   "id": "07065c10-8790-4b6c-b465-b64bf449ffc7",
   "metadata": {},
   "source": [
    "1 * 1 = 1\t1 * 2 = 2\t1 * 3 = 3\t1 * 4 = 4\t1 * 5 = 5\t1 * 6 = 6\t1 * 7 = 7\t1 * 8 = 8\t1 * 9 = 9\t1 * 10 = 10\t\n",
    "2 * 1 = 2\t2 * 2 = 4\t2 * 3 = 6\t2 * 4 = 8\t2 * 5 = 10\t2 * 6 = 12\t2 * 7 = 14\t2 * 8 = 16\t2 * 9 = 18\t2 * 10 = 20\t\n",
    "3 * 1 = 3\t3 * 2 = 6\t3 * 3 = 9\t3 * 4 = 12\t3 * 5 = 15\t3 * 6 = 18\t3 * 7 = 21\t3 * 8 = 24\t3 * 9 = 27\t3 * 10 = 30\t\n",
    "4 * 1 = 4\t4 * 2 = 8\t4 * 3 = 12\t4 * 4 = 16\t4 * 5 = 20\t4 * 6 = 24\t4 * 7 = 28\t4 * 8 = 32\t4 * 9 = 36\t4 * 10 = 40\t\n",
    "5 * 1 = 5\t5 * 2 = 10\t5 * 3 = 15\t5 * 4 = 20\t5 * 5 = 25\t5 * 6 = 30\t5 * 7 = 35\t5 * 8 = 40\t5 * 9 = 45\t5 * 10 = 50\t\n",
    "6 * 1 = 6\t6 * 2 = 12\t6 * 3 = 18\t6 * 4 = 24\t6 * 5 = 30\t6 * 6 = 36\t6 * 7 = 42\t6 * 8 = 48\t6 * 9 = 54\t6 * 10 = 60\t\n",
    "7 * 1 = 7\t7 * 2 = 14\t7 * 3 = 21\t7 * 4 = 28\t7 * 5 = 35\t7 * 6 = 42\t7 * 7 = 49\t7 * 8 = 56\t7 * 9 = 63\t7 * 10 = 70\t\n",
    "8 * 1 = 8\t8 * 2 = 16\t8 * 3 = 24\t8 * 4 = 32\t8 * 5 = 40\t8 * 6 = 48\t8 * 7 = 56\t8 * 8 = 64\t8 * 9 = 72\t8 * 10 = 80\t\n",
    "9 * 1 = 9\t9 * 2 = 18\t9 * 3 = 27\t9 * 4 = 36\t9 * 5 = 45\t9 * 6 = 54\t9 * 7 = 63\t9 * 8 = 72\t9 * 9 = 81\t9 * 10 = 90\t\n",
    "10 * 1 = 10\t10 * 2 = 20\t10 * 3 = 30\t10 * 4 = 40\t10 * 5 = 50\t10 * 6 = 60\t10 * 7 = 70\t10 * 8 = 80\t10 * 9 = 90\t10 * 10 = 100\t\n"
   ]
  }
 ],
 "metadata": {
  "kernelspec": {
   "display_name": "Python 3 (ipykernel)",
   "language": "python",
   "name": "python3"
  },
  "language_info": {
   "codemirror_mode": {
    "name": "ipython",
    "version": 3
   },
   "file_extension": ".py",
   "mimetype": "text/x-python",
   "name": "python",
   "nbconvert_exporter": "python",
   "pygments_lexer": "ipython3",
   "version": "3.10.8"
  }
 },
 "nbformat": 4,
 "nbformat_minor": 5
}
